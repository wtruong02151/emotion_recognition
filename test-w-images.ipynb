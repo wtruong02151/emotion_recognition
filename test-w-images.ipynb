{
 "cells": [
  {
   "cell_type": "code",
   "execution_count": 1,
   "metadata": {
    "collapsed": false
   },
   "outputs": [
    {
     "ename": "ImportError",
     "evalue": "No module named 'imageflow'",
     "output_type": "error",
     "traceback": [
      "\u001b[0;31m---------------------------------------------------------------------------\u001b[0m",
      "\u001b[0;31mImportError\u001b[0m                               Traceback (most recent call last)",
      "\u001b[0;32m<ipython-input-1-aa472375c7c4>\u001b[0m in \u001b[0;36m<module>\u001b[0;34m()\u001b[0m\n\u001b[1;32m      3\u001b[0m \u001b[0;32mimport\u001b[0m \u001b[0mnumpy\u001b[0m \u001b[0;32mas\u001b[0m \u001b[0mnp\u001b[0m\u001b[0;34m\u001b[0m\u001b[0m\n\u001b[1;32m      4\u001b[0m \u001b[0;32mimport\u001b[0m \u001b[0mmath\u001b[0m\u001b[0;34m\u001b[0m\u001b[0m\n\u001b[0;32m----> 5\u001b[0;31m \u001b[0;32mimport\u001b[0m \u001b[0mimageflow\u001b[0m\u001b[0;34m\u001b[0m\u001b[0m\n\u001b[0m",
      "\u001b[0;31mImportError\u001b[0m: No module named 'imageflow'"
     ]
    }
   ],
   "source": [
    "# Typical setup to include TensorFlow.\n",
    "import tensorflow as tf\n",
    "import numpy as np\n",
    "import math\n",
    "import imageflow"
   ]
  },
  {
   "cell_type": "code",
   "execution_count": 22,
   "metadata": {
    "collapsed": false
   },
   "outputs": [
    {
     "name": "stdout",
     "output_type": "stream",
     "text": [
      "Tensor(\"ReaderRead_10:1\", shape=(), dtype=string)\n",
      "Tensor(\"Squeeze_10:0\", shape=(300, 300, 1), dtype=float32)\n",
      "Tensor(\"Reshape_10:0\", shape=(1, 90000), dtype=float32)\n"
     ]
    }
   ],
   "source": [
    "# Make a queue of file names including all the JPEG images files in the relative\n",
    "# image directory.\n",
    "\n",
    "\n",
    "filename_queue = tf.train.string_input_producer(\n",
    "    tf.train.match_filenames_once('undercooked/*.png'))\n",
    "\n",
    "# filenames = ['undercooked/*.jpg']\n",
    "# filename_queue = tf.train.string_input_producer(filenames)\n",
    "\n",
    "# Read an entire image file which is required since they're JPEGs, if the images\n",
    "# are too large they could be split in advance to smaller files or use the Fixed\n",
    "# reader to split up the file.\n",
    "image_reader = tf.WholeFileReader()\n",
    "\n",
    "\n",
    "# Read a whole file from the queue, the first returned value in the tuple is the\n",
    "# filename which we are ignoring.\n",
    "_, image_file = image_reader.read(filename_queue)\n",
    "\n",
    "print(image_file)\n",
    "\n",
    "# Decode the image as a JPEG file, this will turn it into a Tensor which we can\n",
    "# then use in training.\n",
    "# image = tf.image.decode_png(image_file, channels=4)\n",
    "image = tf.image.decode_png(image_file, channels=1)\n",
    "image = tf.image.resize_images(image, 300, 300)\n",
    "leh = tf.reshape(image, [1, 90000])\n",
    "print(image)\n",
    "print(leh)\n",
    "felege = []\n",
    "\n",
    "# Start a new session to show example output.\n",
    "with tf.Session() as sess:\n",
    "    # Required to get the filename matching to run.\n",
    "    tf.initialize_all_variables().run()\n",
    "\n",
    "    # Coordinate the loading of image files.\n",
    "    coord = tf.train.Coordinator()\n",
    "    threads = tf.train.start_queue_runners(coord=coord)\n",
    "\n",
    "    # Get an image tensor and print its value.\n",
    "    image_tensor = sess.run([image])\n",
    "    felege = sess.run([leh])\n",
    "#     print(image_tensor)\n",
    "\n",
    "    # Finish off the filename queue coordinator.\n",
    "    coord.request_stop()\n",
    "    coord.join(threads)"
   ]
  },
  {
   "cell_type": "code",
   "execution_count": 10,
   "metadata": {
    "collapsed": false
   },
   "outputs": [
    {
     "name": "stdout",
     "output_type": "stream",
     "text": [
      "(1, 90000)\n",
      "[[  97.           99.48000336  102.31999969 ...,  131.          131.          131.        ]]\n",
      "90000\n",
      "(1, 2)\n"
     ]
    }
   ],
   "source": [
    "print(np.array(felege[0]).shape)\n",
    "print(np.array(felege[0]))\n",
    "print(len(felege[0][0]))\n",
    "print(np.array([[0,1]]).shape)"
   ]
  },
  {
   "cell_type": "code",
   "execution_count": 49,
   "metadata": {
    "collapsed": false
   },
   "outputs": [
    {
     "name": "stdout",
     "output_type": "stream",
     "text": [
      "(1, 90000)\n",
      "Tensor(\"zeros_19:0\", shape=(90000, 2), dtype=float32)\n",
      "Tensor(\"MatMul_10:0\", shape=(1, 2), dtype=float32)\n"
     ]
    }
   ],
   "source": [
    "print((felege[0].shape))\n",
    "print(tf.zeros([90000, 2]))\n",
    "df = tf.matmul(felege[0], tf.zeros([90000, 2]))\n",
    "print(df)"
   ]
  },
  {
   "cell_type": "code",
   "execution_count": 17,
   "metadata": {
    "collapsed": false
   },
   "outputs": [
    {
     "name": "stdout",
     "output_type": "stream",
     "text": [
      "[[ 0.5  0.5]]\n",
      "[[ 0.  1.]]\n",
      "[[ nan  nan]]\n",
      "[[ nan  nan]]\n",
      "[[ nan  nan]]\n",
      "[[ nan  nan]]\n",
      "[[ nan  nan]]\n",
      "[[ nan  nan]]\n",
      "[[ nan  nan]]\n",
      "[[ nan  nan]]\n"
     ]
    }
   ],
   "source": [
    "x = tf.placeholder(tf.float32, [None, 90000])\n",
    "# convolution, flatten\n",
    "W = tf.Variable(tf.zeros([90000, 2]))\n",
    "b = tf.Variable(tf.zeros([2]))\n",
    "\n",
    "y = tf.nn.softmax(tf.matmul(x, W) + b)\n",
    "y_ = tf.placeholder(tf.float32, [None, 2])\n",
    "cross_entropy = tf.reduce_mean(-tf.reduce_sum(y_ * tf.log(y), reduction_indices=[1]))\n",
    "train_step = tf.train.GradientDescentOptimizer(0.1).minimize(cross_entropy)\n",
    "init = tf.initialize_all_variables()\n",
    "sess = tf.Session()\n",
    "sess.run(init)\n",
    "\n",
    "for i in range(10):\n",
    "#   batch_xs, batch_ys = mnist.train.next_batch(100)\n",
    "    t, bruce, harsha = sess.run([train_step, cross_entropy, y], feed_dict={x: felege[0], y_: [[0,1]]})\n",
    "    print(harsha)\n",
    "    \n"
   ]
  },
  {
   "cell_type": "code",
   "execution_count": 16,
   "metadata": {
    "collapsed": false
   },
   "outputs": [
    {
     "name": "stdout",
     "output_type": "stream",
     "text": [
      "(3, 90000)\n",
      "1.0\n"
     ]
    }
   ],
   "source": [
    "print(np.array([felege[0][0], felege[0][0], felege[0][0]]).shape)\n",
    "correct_prediction = tf.equal(tf.argmax(y,1), tf.argmax(y_,1))\n",
    "accuracy = tf.reduce_mean(tf.cast(correct_prediction, tf.float32))\n",
    "print(sess.run(accuracy, feed_dict={x: [felege[0][0], felege[0][0], felege[0][0]], y_: [[0,1], [0,1], [0,1]]}))"
   ]
  },
  {
   "cell_type": "code",
   "execution_count": null,
   "metadata": {
    "collapsed": true
   },
   "outputs": [],
   "source": []
  }
 ],
 "metadata": {
  "kernelspec": {
   "display_name": "Python [Root]",
   "language": "python",
   "name": "Python [Root]"
  },
  "language_info": {
   "codemirror_mode": {
    "name": "ipython",
    "version": 3
   },
   "file_extension": ".py",
   "mimetype": "text/x-python",
   "name": "python",
   "nbconvert_exporter": "python",
   "pygments_lexer": "ipython3",
   "version": "3.5.2"
  }
 },
 "nbformat": 4,
 "nbformat_minor": 1
}
